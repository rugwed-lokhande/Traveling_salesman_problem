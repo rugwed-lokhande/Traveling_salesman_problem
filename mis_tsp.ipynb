{
 "cells": [
  {
   "cell_type": "code",
   "execution_count": 1,
   "id": "64b046d5",
   "metadata": {},
   "outputs": [],
   "source": [
    "import math\n",
    "import scipy.linalg as spla\n",
    "import matplotlib.pyplot as plt\n",
    "import numpy as np"
   ]
  },
  {
   "cell_type": "code",
   "execution_count": 4,
   "id": "256668a6",
   "metadata": {},
   "outputs": [
    {
     "name": "stdout",
     "output_type": "stream",
     "text": [
      "[[1. 0. 0. ... 0. 0. 0.]\n",
      " [0. 1. 0. ... 0. 0. 0.]\n",
      " [0. 0. 1. ... 0. 0. 0.]\n",
      " ...\n",
      " [0. 0. 0. ... 1. 0. 0.]\n",
      " [0. 0. 0. ... 0. 1. 0.]\n",
      " [0. 0. 0. ... 0. 0. 1.]]\n"
     ]
    }
   ],
   "source": [
    "N = 50\n",
    "M = 3 * N\n",
    "X = np.random.uniform(size=(N,2))\n",
    "k=20\n",
    "i = np.zeros([M])\n",
    "i[0] = 2\n",
    "i[1] = -1\n",
    "i[M-1] = -1\n",
    "\n",
    "L = spla.circulant(i)\n",
    "\n",
    "D = np.eye(M)\n",
    "Lr = k*L + D\n",
    "Lr_inv = spla.inv(L)\n",
    "\n",
    "x_m = np.mean(X, axis = 0)\n",
    "Y =  x_m + np.random.randn(M,2) * 0.001\n",
    "\n",
    "b = 10\n",
    "print(D)"
   ]
  },
  {
   "cell_type": "code",
   "execution_count": 5,
   "id": "2a39d551",
   "metadata": {},
   "outputs": [],
   "source": [
    "Distancex1 = np.outer(X[:,0], np.ones(M))\n",
    "Distancey1 = np.outer(np.ones(N), Y[:,0])\n",
    "Distancex2 = np.outer(X[:,1], np.ones(M))\n",
    "Distancey2 = np.outer(np.ones(N), Y[:,1])\n",
    "DistanceXY = (Distancex1 - Distancey1)**2 + (Distancex2 - Distancey2)**2\n",
    "softmax_XY = np.exp(-b*DistanceXY)\n",
    "P = softmax_XY / np.outer(np.sum(softmax_XY, axis=1), np.ones(M))"
   ]
  },
  {
   "cell_type": "code",
   "execution_count": 6,
   "id": "07fce586",
   "metadata": {},
   "outputs": [],
   "source": [
    "for i in range(500):\n",
    "\n",
    "        Distancex1 = np.outer(X[:,0], np.ones(M))\n",
    "        Distancey1 = np.outer(np.ones(N), Y[:,0])\n",
    "        Distancex2 = np.outer(X[:,1], np.ones(M))\n",
    "        Distancey2 = np.outer(np.ones(N), Y[:,1])\n",
    "        DistanceXY = (Distancex1 - Distancey1)**2 + (Distancex2 - Distancey2)**2\n",
    "        new_softmax_XY = np.exp(-b*DistanceXY)\n",
    "        P = P*new_softmax_XY/((np.outer(np.sum(new_softmax_XY, axis =1), np.ones(M)) * np.outer(np.sum(P, axis= 1), np.ones(M))))\n",
    "        D = np.diag(P.sum(axis=0))\n",
    "        k = k/1.05\n",
    "        Lr = k*L + D\n",
    "        Lr_inv = spla.inv(Lr)\n",
    "        Y =Lr_inv.dot(P.transpose().dot(X))\n",
    "\n",
    "        max_cities = P.argmax(axis = 1)\n",
    "        dist_tour = 0\n",
    "\n",
    "        #calculating distance for the tour\n",
    "        for a in range(len(max_cities)):\n",
    "                c1 = np.array(Y[a])\n",
    "                c2 = np.array(Y[a+1])\n",
    "                x1, y1 = c1[0], c1[1]\n",
    "                x2, y2 = c2[0], c2[1]\n",
    "                Distxy = math.sqrt((x1 - y1)**2 + (x2-y2)**2)\n",
    "                dist_tour += Distxy"
   ]
  },
  {
   "cell_type": "code",
   "execution_count": 7,
   "id": "1aac6942",
   "metadata": {},
   "outputs": [
    {
     "data": {
      "image/png": "[encoded data removed]",
      "text/plain": [
       "<Figure size 432x288 with 1 Axes>"
      ]
     },
     "metadata": {
      "needs_background": "light"
     },
     "output_type": "display_data"
    }
   ],
   "source": [
    "fig = plt.figure()\n",
    "\n",
    "plt.plot(Y[:,0],Y[:,1], color=\"green\")\n",
    "plt.scatter(X[:,0], X[:,1], color = \"blue\")\n",
    "\n",
    "plt.show()"
   ]
  },
  {
   "cell_type": "code",
   "execution_count": null,
   "id": "b090dea1",
   "metadata": {},
   "outputs": [],
   "source": []
  }
 ],
 "metadata": {
  "kernelspec": {
   "display_name": "Python 3 (ipykernel)",
   "language": "python",
   "name": "python3"
  },
  "language_info": {
   "codemirror_mode": {
    "name": "ipython",
    "version": 3
   },
   "file_extension": ".py",
   "mimetype": "text/x-python",
   "name": "python",
   "nbconvert_exporter": "python",
   "pygments_lexer": "ipython3",
   "version": "3.8.10"
  }
 },
 "nbformat": 4,
 "nbformat_minor": 5
}
